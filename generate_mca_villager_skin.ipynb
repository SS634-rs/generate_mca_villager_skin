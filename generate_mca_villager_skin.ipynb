{
 "cells": [
  {
   "cell_type": "markdown",
   "metadata": {},
   "source": [
    "## Generate MCA Villager Skin\n",
    "\n",
    "MCA Rebornの村人と同様のスキンを生成するツールです。<br>\n",
    "デフォルトのままでも動作します。<br>\n",
    "(デフォルトの場合はランダムにスキンを生成します。)"
   ]
  },
  {
   "cell_type": "markdown",
   "metadata": {},
   "source": [
    "### Import libs"
   ]
  },
  {
   "cell_type": "code",
   "execution_count": 1,
   "metadata": {},
   "outputs": [],
   "source": [
    "from PIL import Image\n",
    "from IPython.display import display\n",
    "from classes.skin_info import SkinInfo\n",
    "from classes.generate_villager_skin import GenerateVillagerSkin"
   ]
  },
  {
   "cell_type": "markdown",
   "metadata": {},
   "source": [
    "### Generate skin info\n",
    "\n",
    "SkinInfoにパラメータを指定することで、スキンのパターンを部分的に固定化できます。<br>\n",
    "(全パラメータを設定することで、スキンのパターンを完全に固定化することも可能です。)<br>\n",
    "コメントアウトされた行を参考に設定してください。<br>\n",
    "\n",
    "※指定できるパラメータは[Show detail skin info](#show-detail-skin-info)の出力を参照してください。"
   ]
  },
  {
   "cell_type": "code",
   "execution_count": 2,
   "metadata": {},
   "outputs": [],
   "source": [
    "skin_info = SkinInfo()\n",
    "\n",
    "#skin_info = SkinInfo(\n",
    "#    gender=2,       # 女性\n",
    "#    albinism=True,  # アルビノ\n",
    "#    face=12,        # 顔のパターン\n",
    "#)"
   ]
  },
  {
   "cell_type": "code",
   "execution_count": 3,
   "metadata": {},
   "outputs": [
    {
     "name": "stdout",
     "output_type": "stream",
     "text": [
      "性別: 女\n",
      "職業: 農民\n",
      "特性: アルビノ\n"
     ]
    }
   ],
   "source": [
    "skin_info.generate_skin_info()\n",
    "print(skin_info)"
   ]
  },
  {
   "cell_type": "markdown",
   "metadata": {},
   "source": [
    "### Generate villager skin"
   ]
  },
  {
   "cell_type": "code",
   "execution_count": 4,
   "metadata": {},
   "outputs": [],
   "source": [
    "skin_generator = GenerateVillagerSkin(skin_info)\n",
    "villager_skin = skin_generator.generate()"
   ]
  },
  {
   "cell_type": "markdown",
   "metadata": {},
   "source": [
    "### Show villager skin (Original size & 4x size)"
   ]
  },
  {
   "cell_type": "code",
   "execution_count": 5,
   "metadata": {},
   "outputs": [
    {
     "data": {
      "image/png": "[encoded data removed]",
      "text/plain": [
       "<PIL.Image.Image image mode=RGBA size=64x64>"
      ]
     },
     "metadata": {},
     "output_type": "display_data"
    },
    {
     "data": {
      "image/png": "[encoded data removed]",
      "text/plain": [
       "<PIL.Image.Image image mode=RGBA size=256x256>"
      ]
     },
     "metadata": {},
     "output_type": "display_data"
    }
   ],
   "source": [
    "display(villager_skin)\n",
    "size = (villager_skin.size[0] * 4, villager_skin.size[1] * 4)\n",
    "display(villager_skin.resize(size, Image.NEAREST))"
   ]
  },
  {
   "cell_type": "markdown",
   "metadata": {},
   "source": [
    "### Show detail skin info"
   ]
  },
  {
   "cell_type": "code",
   "execution_count": 6,
   "metadata": {},
   "outputs": [
    {
     "data": {
      "text/html": [
       "<style type=\"text/css\">\n",
       "#T_4718f th {\n",
       "  text-align: left;\n",
       "}\n",
       "#T_4718f_row0_col0, #T_4718f_row0_col1, #T_4718f_row0_col2, #T_4718f_row0_col3, #T_4718f_row1_col0, #T_4718f_row1_col1, #T_4718f_row1_col2, #T_4718f_row1_col3, #T_4718f_row2_col0, #T_4718f_row2_col1, #T_4718f_row2_col2, #T_4718f_row2_col3, #T_4718f_row3_col0, #T_4718f_row3_col1, #T_4718f_row3_col2, #T_4718f_row3_col3, #T_4718f_row4_col0, #T_4718f_row4_col1, #T_4718f_row4_col2, #T_4718f_row4_col3, #T_4718f_row5_col0, #T_4718f_row5_col1, #T_4718f_row5_col2, #T_4718f_row5_col3, #T_4718f_row6_col0, #T_4718f_row6_col1, #T_4718f_row6_col2, #T_4718f_row6_col3, #T_4718f_row7_col0, #T_4718f_row7_col1, #T_4718f_row7_col2, #T_4718f_row7_col3, #T_4718f_row8_col0, #T_4718f_row8_col1, #T_4718f_row8_col2, #T_4718f_row8_col3, #T_4718f_row9_col0, #T_4718f_row9_col1, #T_4718f_row9_col2, #T_4718f_row9_col3, #T_4718f_row10_col0, #T_4718f_row10_col1, #T_4718f_row10_col2, #T_4718f_row10_col3, #T_4718f_row11_col0, #T_4718f_row11_col1, #T_4718f_row11_col2, #T_4718f_row11_col3, #T_4718f_row12_col0, #T_4718f_row12_col1, #T_4718f_row12_col2, #T_4718f_row12_col3, #T_4718f_row13_col0, #T_4718f_row13_col1, #T_4718f_row13_col2, #T_4718f_row13_col3 {\n",
       "  text-align: left;\n",
       "}\n",
       "</style>\n",
       "<table id=\"T_4718f\">\n",
       "  <thead>\n",
       "    <tr>\n",
       "      <th class=\"blank level0\" >&nbsp;</th>\n",
       "      <th id=\"T_4718f_level0_col0\" class=\"col_heading level0 col0\" >パラメータ名</th>\n",
       "      <th id=\"T_4718f_level0_col1\" class=\"col_heading level0 col1\" >説明</th>\n",
       "      <th id=\"T_4718f_level0_col2\" class=\"col_heading level0 col2\" >値</th>\n",
       "      <th id=\"T_4718f_level0_col3\" class=\"col_heading level0 col3\" >値の範囲</th>\n",
       "    </tr>\n",
       "  </thead>\n",
       "  <tbody>\n",
       "    <tr>\n",
       "      <th id=\"T_4718f_level0_row0\" class=\"row_heading level0 row0\" >0</th>\n",
       "      <td id=\"T_4718f_row0_col0\" class=\"data row0 col0\" >gender</td>\n",
       "      <td id=\"T_4718f_row0_col1\" class=\"data row0 col1\" >性別</td>\n",
       "      <td id=\"T_4718f_row0_col2\" class=\"data row0 col2\" >2</td>\n",
       "      <td id=\"T_4718f_row0_col3\" class=\"data row0 col3\" >1 or 2</td>\n",
       "    </tr>\n",
       "    <tr>\n",
       "      <th id=\"T_4718f_level0_row1\" class=\"row_heading level0 row1\" >1</th>\n",
       "      <td id=\"T_4718f_row1_col0\" class=\"data row1 col0\" >skin</td>\n",
       "      <td id=\"T_4718f_row1_col1\" class=\"data row1 col1\" >素体</td>\n",
       "      <td id=\"T_4718f_row1_col2\" class=\"data row1 col2\" >4</td>\n",
       "      <td id=\"T_4718f_row1_col3\" class=\"data row1 col3\" >0 ~ 4</td>\n",
       "    </tr>\n",
       "    <tr>\n",
       "      <th id=\"T_4718f_level0_row2\" class=\"row_heading level0 row2\" >2</th>\n",
       "      <td id=\"T_4718f_row2_col0\" class=\"data row2 col0\" >face</td>\n",
       "      <td id=\"T_4718f_row2_col1\" class=\"data row2 col1\" >顔(目)</td>\n",
       "      <td id=\"T_4718f_row2_col2\" class=\"data row2 col2\" >12</td>\n",
       "      <td id=\"T_4718f_row2_col3\" class=\"data row2 col3\" >0 ~ 21</td>\n",
       "    </tr>\n",
       "    <tr>\n",
       "      <th id=\"T_4718f_level0_row3\" class=\"row_heading level0 row3\" >3</th>\n",
       "      <td id=\"T_4718f_row3_col0\" class=\"data row3 col0\" >hair</td>\n",
       "      <td id=\"T_4718f_row3_col1\" class=\"data row3 col1\" >髪型</td>\n",
       "      <td id=\"T_4718f_row3_col2\" class=\"data row3 col2\" >11</td>\n",
       "      <td id=\"T_4718f_row3_col3\" class=\"data row3 col3\" >0 ~ 39</td>\n",
       "    </tr>\n",
       "    <tr>\n",
       "      <th id=\"T_4718f_level0_row4\" class=\"row_heading level0 row4\" >4</th>\n",
       "      <td id=\"T_4718f_row4_col0\" class=\"data row4 col0\" >hetero</td>\n",
       "      <td id=\"T_4718f_row4_col1\" class=\"data row4 col1\" >ヘテロクロミア(オッドアイ)</td>\n",
       "      <td id=\"T_4718f_row4_col2\" class=\"data row4 col2\" >False</td>\n",
       "      <td id=\"T_4718f_row4_col3\" class=\"data row4 col3\" >True or False</td>\n",
       "    </tr>\n",
       "    <tr>\n",
       "      <th id=\"T_4718f_level0_row5\" class=\"row_heading level0 row5\" >5</th>\n",
       "      <td id=\"T_4718f_row5_col0\" class=\"data row5 col0\" >albinism</td>\n",
       "      <td id=\"T_4718f_row5_col1\" class=\"data row5 col1\" >アルビノ</td>\n",
       "      <td id=\"T_4718f_row5_col2\" class=\"data row5 col2\" >True</td>\n",
       "      <td id=\"T_4718f_row5_col3\" class=\"data row5 col3\" >True or False</td>\n",
       "    </tr>\n",
       "    <tr>\n",
       "      <th id=\"T_4718f_level0_row6\" class=\"row_heading level0 row6\" >6</th>\n",
       "      <td id=\"T_4718f_row6_col0\" class=\"data row6 col0\" >hemoglobin</td>\n",
       "      <td id=\"T_4718f_row6_col1\" class=\"data row6 col1\" >ヘモグロビン(肌の色を決定する要素)</td>\n",
       "      <td id=\"T_4718f_row6_col2\" class=\"data row6 col2\" >0.150153</td>\n",
       "      <td id=\"T_4718f_row6_col3\" class=\"data row6 col3\" >0.0 ~ 1.0</td>\n",
       "    </tr>\n",
       "    <tr>\n",
       "      <th id=\"T_4718f_level0_row7\" class=\"row_heading level0 row7\" >7</th>\n",
       "      <td id=\"T_4718f_row7_col0\" class=\"data row7 col0\" >melanin</td>\n",
       "      <td id=\"T_4718f_row7_col1\" class=\"data row7 col1\" >メラニン(肌の色を決定する要素)</td>\n",
       "      <td id=\"T_4718f_row7_col2\" class=\"data row7 col2\" >0.203140</td>\n",
       "      <td id=\"T_4718f_row7_col3\" class=\"data row7 col3\" >0.0 ~ 1.0</td>\n",
       "    </tr>\n",
       "    <tr>\n",
       "      <th id=\"T_4718f_level0_row8\" class=\"row_heading level0 row8\" >8</th>\n",
       "      <td id=\"T_4718f_row8_col0\" class=\"data row8 col0\" >eumelanin</td>\n",
       "      <td id=\"T_4718f_row8_col1\" class=\"data row8 col1\" >ユーメラニン(髪の色を決定する要素)</td>\n",
       "      <td id=\"T_4718f_row8_col2\" class=\"data row8 col2\" >0.821227</td>\n",
       "      <td id=\"T_4718f_row8_col3\" class=\"data row8 col3\" >0.0 ~ 1.0</td>\n",
       "    </tr>\n",
       "    <tr>\n",
       "      <th id=\"T_4718f_level0_row9\" class=\"row_heading level0 row9\" >9</th>\n",
       "      <td id=\"T_4718f_row9_col0\" class=\"data row9 col0\" >pheomelanin</td>\n",
       "      <td id=\"T_4718f_row9_col1\" class=\"data row9 col1\" >フェオメラニン(髪の色を決定する要素)</td>\n",
       "      <td id=\"T_4718f_row9_col2\" class=\"data row9 col2\" >0.859772</td>\n",
       "      <td id=\"T_4718f_row9_col3\" class=\"data row9 col3\" >0.0 ~ 1.0</td>\n",
       "    </tr>\n",
       "    <tr>\n",
       "      <th id=\"T_4718f_level0_row10\" class=\"row_heading level0 row10\" >10</th>\n",
       "      <td id=\"T_4718f_row10_col0\" class=\"data row10 col0\" >hair_color_blue</td>\n",
       "      <td id=\"T_4718f_row10_col1\" class=\"data row10 col1\" >髪の色(青)</td>\n",
       "      <td id=\"T_4718f_row10_col2\" class=\"data row10 col2\" >0.000000</td>\n",
       "      <td id=\"T_4718f_row10_col3\" class=\"data row10 col3\" >0.0 ~ 1.0</td>\n",
       "    </tr>\n",
       "    <tr>\n",
       "      <th id=\"T_4718f_level0_row11\" class=\"row_heading level0 row11\" >11</th>\n",
       "      <td id=\"T_4718f_row11_col0\" class=\"data row11 col0\" >hair_color_green</td>\n",
       "      <td id=\"T_4718f_row11_col1\" class=\"data row11 col1\" >髪の色(緑)</td>\n",
       "      <td id=\"T_4718f_row11_col2\" class=\"data row11 col2\" >0.000000</td>\n",
       "      <td id=\"T_4718f_row11_col3\" class=\"data row11 col3\" >0.0 ~ 1.0</td>\n",
       "    </tr>\n",
       "    <tr>\n",
       "      <th id=\"T_4718f_level0_row12\" class=\"row_heading level0 row12\" >12</th>\n",
       "      <td id=\"T_4718f_row12_col0\" class=\"data row12 col0\" >hair_color_red</td>\n",
       "      <td id=\"T_4718f_row12_col1\" class=\"data row12 col1\" >髪の色(赤)</td>\n",
       "      <td id=\"T_4718f_row12_col2\" class=\"data row12 col2\" >0.000000</td>\n",
       "      <td id=\"T_4718f_row12_col3\" class=\"data row12 col3\" >0.0 ~ 1.0</td>\n",
       "    </tr>\n",
       "    <tr>\n",
       "      <th id=\"T_4718f_level0_row13\" class=\"row_heading level0 row13\" >13</th>\n",
       "      <td id=\"T_4718f_row13_col0\" class=\"data row13 col0\" >clothing</td>\n",
       "      <td id=\"T_4718f_row13_col1\" class=\"data row13 col1\" >服装</td>\n",
       "      <td id=\"T_4718f_row13_col2\" class=\"data row13 col2\" >resources\\skins\\clothing\\normal\\female\\farmer\\4.png</td>\n",
       "      <td id=\"T_4718f_row13_col3\" class=\"data row13 col3\" >-</td>\n",
       "    </tr>\n",
       "  </tbody>\n",
       "</table>\n"
      ],
      "text/plain": [
       "<pandas.io.formats.style.Styler at 0x24dffc5a4b0>"
      ]
     },
     "execution_count": 6,
     "metadata": {},
     "output_type": "execute_result"
    }
   ],
   "source": [
    "skin_info.to_dataframe()"
   ]
  }
 ],
 "metadata": {
  "kernelspec": {
   "display_name": "Python 3",
   "language": "python",
   "name": "python3"
  },
  "language_info": {
   "codemirror_mode": {
    "name": "ipython",
    "version": 3
   },
   "file_extension": ".py",
   "mimetype": "text/x-python",
   "name": "python",
   "nbconvert_exporter": "python",
   "pygments_lexer": "ipython3",
   "version": "3.12.6"
  }
 },
 "nbformat": 4,
 "nbformat_minor": 4
}
